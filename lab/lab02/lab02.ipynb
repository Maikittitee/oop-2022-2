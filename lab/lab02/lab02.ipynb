{
 "cells": [
  {
   "attachments": {},
   "cell_type": "markdown",
   "metadata": {},
   "source": [
    "There would be better if y'all try to understand MY code, Maybe there have some trap ;)"
   ]
  },
  {
   "cell_type": "code",
   "execution_count": 13,
   "metadata": {},
   "outputs": [
    {
     "name": "stdout",
     "output_type": "stream",
     "text": [
      "145\n"
     ]
    }
   ],
   "source": [
    "#1 อย่าลอกข้อนี้ ไม่งั้นมึงแตก\n",
    "\n",
    "import itertools\n",
    "\n",
    "digits = input().split()\n",
    "n = len(digits)\n",
    "\n",
    "digits = [int(i) for i in digits]\n",
    "\n",
    "result = set()\n",
    "for permutation in itertools.permutations(digits, n):\n",
    "    if permutation[0] != 0:\n",
    "        number = int(\"\".join(map(str,permutation)))\n",
    "        result.add(number)\n",
    "\n",
    "print(min(result)) \n"
   ]
  },
  {
   "cell_type": "code",
   "execution_count": null,
   "metadata": {},
   "outputs": [],
   "source": [
    "test = ['a' , 'b' , 'c' , 'd']\n",
    "word.join(map(str, test))\n",
    "print(word)\n"
   ]
  },
  {
   "cell_type": "code",
   "execution_count": 170,
   "metadata": {},
   "outputs": [
    {
     "name": "stdout",
     "output_type": "stream",
     "text": [
      "[2, 3, 1]\n"
     ]
    }
   ],
   "source": [
    "#2 alternative solution\n",
    "\n",
    "def count_char_in_string(x,c):\n",
    "    \n",
    "    ans_list = list()\n",
    "    start = 0\n",
    "\n",
    "    for index in range(len(x)):\n",
    "        ans_list.append(0)\n",
    "\n",
    "    for string in x:\n",
    "        #print(string)\n",
    "        for i in string:\n",
    "            if (i == c):\n",
    "                 ans_list[start] += 1\n",
    "        start += 1\n",
    "    return (ans_list)\n",
    "\n",
    "\n",
    "if __name__ == \"__main__\":\n",
    "    x = [\"abba\", \"babana\", \"ann\"]\n",
    "    c = 'a'\n",
    "    a = count_char_in_string(x,c)\n",
    "    print(a)\n",
    "\n"
   ]
  },
  {
   "cell_type": "code",
   "execution_count": 7,
   "metadata": {},
   "outputs": [
    {
     "name": "stdout",
     "output_type": "stream",
     "text": [
      "[2, 3, 1]\n"
     ]
    }
   ],
   "source": [
    "#2 list comprehension\n",
    "\n",
    "\n",
    "def count_char_in_string(x,c):\n",
    "    count_list = [i.count(c) for i in x] #[2 , 3, 1]\n",
    "    return (count_list)\n",
    "\n",
    "    \n",
    "if __name__ == \"__main__\":\n",
    "    x = [\"abba\", \"babana\", \"ann\"]\n",
    "    c = 'a'\n",
    "    a = count_char_in_string(x,c)\n",
    "    print(a)"
   ]
  },
  {
   "cell_type": "markdown",
   "metadata": {},
   "source": []
  },
  {
   "cell_type": "code",
   "execution_count": null,
   "metadata": {},
   "outputs": [],
   "source": [
    "ans_list = []\n",
    "haha = [\"apple\", \"bannana\"]\n",
    "\n",
    "for i in range(len(haha)):\n",
    "    ans_list.append(0)\n",
    "\n",
    "ans_list[0] += 1\n",
    "\n",
    "print(ans_list)"
   ]
  },
  {
   "cell_type": "code",
   "execution_count": null,
   "metadata": {},
   "outputs": [],
   "source": [
    "#3 alternative\n",
    "\n",
    "def delete_minus(x):\n",
    "    new_lst = list()\n",
    "    for i in range(len(x)):\n",
    "        new_lst.append([])\n",
    "    index = 0\n",
    "    for lst in x:\n",
    "        for num in lst:\n",
    "            if (num >= 0):\n",
    "                new_lst[index].append(num)\n",
    "        index += 1\n",
    "    return (new_lst)\n",
    "\n",
    "x = [[1, -3, 2],[-8, 5],[-1, -4, -3] ] \n",
    "ans = delete_minus(x)\n",
    "print(ans)\n"
   ]
  },
  {
   "cell_type": "code",
   "execution_count": null,
   "metadata": {},
   "outputs": [],
   "source": [
    "#3 best sulution\n",
    "\n",
    "\n",
    "def delete_minus(x):\n",
    "    newlist = [[i for i in line if i >= 0] for line in x]\n",
    "    return (newlist)\n",
    "\n",
    "if __name__ == \"__main__\":\n",
    "    x = [[1, -3, 2],[-8, 5],[-1, -4, -3]] \n",
    "    newlist = delete_minus(x)\n",
    "    print(newlist)"
   ]
  },
  {
   "cell_type": "code",
   "execution_count": null,
   "metadata": {},
   "outputs": [],
   "source": [
    "#4\n",
    "\n",
    "def count_minus(word):  \n",
    "\tresult_list = [i for i in word if i < 0]\n",
    "\treturn (len(result_list))\n",
    "\n",
    "\n",
    "if __name__==\"__main__\":\n",
    "\tnum_list = input().split(\" \")\n",
    "\tnew_list = []\n",
    "\tfor i in num_list:\n",
    "\t\tnew_list.append(int(i))\n",
    "\tprint(new_list)\n",
    "\tprint(count_minus(new_list))"
   ]
  },
  {
   "cell_type": "code",
   "execution_count": 11,
   "metadata": {},
   "outputs": [
    {
     "name": "stdout",
     "output_type": "stream",
     "text": [
      "haha\n"
     ]
    }
   ],
   "source": [
    "#5\n",
    "\n",
    "def is_alpha(i):\n",
    "    if ord(\"A\") <= ord(i) <= ord(\"Z\") or ord(\"a\") <= ord(i) <= ord(\"z\"):\n",
    "        return True\n",
    "    else:\n",
    "        return False\n",
    "\n",
    "def only_english(string1):\n",
    "    s_list = [i for i in string1 if is_alpha(i)]\n",
    "    #print(s_list)\n",
    "    ret = \"\".join(map(str,s_list))\n",
    "    return (ret)\n",
    "\n",
    "eng = only_english(\"haสวัสดีครับha123\")\n",
    "print(eng)"
   ]
  },
  {
   "cell_type": "markdown",
   "metadata": {},
   "source": []
  },
  {
   "cell_type": "code",
   "execution_count": 171,
   "metadata": {},
   "outputs": [
    {
     "name": "stdout",
     "output_type": "stream",
     "text": [
      "[4, 4, 4]\n"
     ]
    }
   ],
   "source": [
    "#6\n",
    "\n",
    "def add2list(lst1,lst2):\n",
    "    new_list = [lst1[i] + lst2[i] for i in range(len(lst1))]\n",
    "    return (new_list)\n",
    "\n",
    "lst1 = [2,3,4]\n",
    "lst2 = [2,1,0]\n",
    "ans = add2list(lst1,lst2)\n",
    "print(ans)\n",
    "\n"
   ]
  },
  {
   "cell_type": "code",
   "execution_count": 27,
   "metadata": {},
   "outputs": [
    {
     "name": "stdout",
     "output_type": "stream",
     "text": [
      "91\n"
     ]
    }
   ],
   "source": [
    "#7\n",
    "def is_leap(year):\n",
    "    if (year % 400 == 0 ):\n",
    "        day_in_month_list = [31,29,31,30,31,30,31,31,30,30,30,31]\n",
    "    else:\n",
    "        day_in_month_list = [31,28,31,30,31,30,31,31,30,30,30,31]\n",
    "    return (day_in_month_list)\n",
    "    \n",
    "def day_of_month(month,year):\n",
    "    day_in_month_list = is_leap(year) \n",
    "    count = 0\n",
    "    month -= 1\n",
    "    while (month > 0):\n",
    "        month -=1\n",
    "        count += day_in_month_list[month]\n",
    "    return (count)\n",
    "\n",
    "def day_of_year(day, month ,year):\n",
    "    return (day + day_of_month(month,year))\n",
    "\n",
    "print(day_of_year(1,4,2022))"
   ]
  },
  {
   "cell_type": "code",
   "execution_count": null,
   "metadata": {},
   "outputs": [],
   "source": [
    "#8\n",
    "\n"
   ]
  }
 ],
 "metadata": {
  "kernelspec": {
   "display_name": "Python 3",
   "language": "python",
   "name": "python3"
  },
  "language_info": {
   "codemirror_mode": {
    "name": "ipython",
    "version": 3
   },
   "file_extension": ".py",
   "mimetype": "text/x-python",
   "name": "python",
   "nbconvert_exporter": "python",
   "pygments_lexer": "ipython3",
   "version": "3.9.6"
  },
  "orig_nbformat": 4,
  "vscode": {
   "interpreter": {
    "hash": "31f2aee4e71d21fbe5cf8b01ff0e069b9275f58929596ceb00d14d90e3e16cd6"
   }
  }
 },
 "nbformat": 4,
 "nbformat_minor": 2
}
