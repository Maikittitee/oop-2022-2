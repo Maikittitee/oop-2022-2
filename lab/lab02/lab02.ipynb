{
 "cells": [
  {
   "attachments": {},
   "cell_type": "markdown",
   "metadata": {},
   "source": [
    "There would be better if y'all try to understand MY code, Maybe there have some trap ;)"
   ]
  },
  {
   "cell_type": "code",
   "execution_count": 169,
   "metadata": {},
   "outputs": [
    {
     "ename": "KeyboardInterrupt",
     "evalue": "Interrupted by user",
     "output_type": "error",
     "traceback": [
      "\u001b[0;31m---------------------------------------------------------------------------\u001b[0m",
      "\u001b[0;31mKeyboardInterrupt\u001b[0m                         Traceback (most recent call last)",
      "Cell \u001b[0;32mIn[169], line 5\u001b[0m\n\u001b[1;32m      1\u001b[0m \u001b[39m#1\u001b[39;00m\n\u001b[1;32m      3\u001b[0m \u001b[39mimport\u001b[39;00m \u001b[39mitertools\u001b[39;00m\n\u001b[0;32m----> 5\u001b[0m digits \u001b[39m=\u001b[39m \u001b[39minput\u001b[39;49m()\u001b[39m.\u001b[39msplit()\n\u001b[1;32m      6\u001b[0m n \u001b[39m=\u001b[39m \u001b[39mlen\u001b[39m(digits)\n\u001b[1;32m      8\u001b[0m digits \u001b[39m=\u001b[39m [\u001b[39mint\u001b[39m(i) \u001b[39mfor\u001b[39;00m i \u001b[39min\u001b[39;00m digits]\n",
      "File \u001b[0;32m~/Library/Python/3.9/lib/python/site-packages/ipykernel/kernelbase.py:1175\u001b[0m, in \u001b[0;36mKernel.raw_input\u001b[0;34m(self, prompt)\u001b[0m\n\u001b[1;32m   1171\u001b[0m \u001b[39mif\u001b[39;00m \u001b[39mnot\u001b[39;00m \u001b[39mself\u001b[39m\u001b[39m.\u001b[39m_allow_stdin:\n\u001b[1;32m   1172\u001b[0m     \u001b[39mraise\u001b[39;00m StdinNotImplementedError(\n\u001b[1;32m   1173\u001b[0m         \u001b[39m\"\u001b[39m\u001b[39mraw_input was called, but this frontend does not support input requests.\u001b[39m\u001b[39m\"\u001b[39m\n\u001b[1;32m   1174\u001b[0m     )\n\u001b[0;32m-> 1175\u001b[0m \u001b[39mreturn\u001b[39;00m \u001b[39mself\u001b[39;49m\u001b[39m.\u001b[39;49m_input_request(\n\u001b[1;32m   1176\u001b[0m     \u001b[39mstr\u001b[39;49m(prompt),\n\u001b[1;32m   1177\u001b[0m     \u001b[39mself\u001b[39;49m\u001b[39m.\u001b[39;49m_parent_ident[\u001b[39m\"\u001b[39;49m\u001b[39mshell\u001b[39;49m\u001b[39m\"\u001b[39;49m],\n\u001b[1;32m   1178\u001b[0m     \u001b[39mself\u001b[39;49m\u001b[39m.\u001b[39;49mget_parent(\u001b[39m\"\u001b[39;49m\u001b[39mshell\u001b[39;49m\u001b[39m\"\u001b[39;49m),\n\u001b[1;32m   1179\u001b[0m     password\u001b[39m=\u001b[39;49m\u001b[39mFalse\u001b[39;49;00m,\n\u001b[1;32m   1180\u001b[0m )\n",
      "File \u001b[0;32m~/Library/Python/3.9/lib/python/site-packages/ipykernel/kernelbase.py:1217\u001b[0m, in \u001b[0;36mKernel._input_request\u001b[0;34m(self, prompt, ident, parent, password)\u001b[0m\n\u001b[1;32m   1214\u001b[0m             \u001b[39mbreak\u001b[39;00m\n\u001b[1;32m   1215\u001b[0m \u001b[39mexcept\u001b[39;00m \u001b[39mKeyboardInterrupt\u001b[39;00m:\n\u001b[1;32m   1216\u001b[0m     \u001b[39m# re-raise KeyboardInterrupt, to truncate traceback\u001b[39;00m\n\u001b[0;32m-> 1217\u001b[0m     \u001b[39mraise\u001b[39;00m \u001b[39mKeyboardInterrupt\u001b[39;00m(\u001b[39m\"\u001b[39m\u001b[39mInterrupted by user\u001b[39m\u001b[39m\"\u001b[39m) \u001b[39mfrom\u001b[39;00m \u001b[39mNone\u001b[39m\n\u001b[1;32m   1218\u001b[0m \u001b[39mexcept\u001b[39;00m \u001b[39mException\u001b[39;00m:\n\u001b[1;32m   1219\u001b[0m     \u001b[39mself\u001b[39m\u001b[39m.\u001b[39mlog\u001b[39m.\u001b[39mwarning(\u001b[39m\"\u001b[39m\u001b[39mInvalid Message:\u001b[39m\u001b[39m\"\u001b[39m, exc_info\u001b[39m=\u001b[39m\u001b[39mTrue\u001b[39;00m)\n",
      "\u001b[0;31mKeyboardInterrupt\u001b[0m: Interrupted by user"
     ]
    }
   ],
   "source": [
    "#1\n",
    "\n",
    "import itertools\n",
    "\n",
    "digits = input().split()\n",
    "n = len(digits)\n",
    "\n",
    "digits = [int(i) for i in digits]\n",
    "\n",
    "result = set()\n",
    "for permutation in itertools.permutations(digits, n):\n",
    "    if permutation[0] != 0:\n",
    "        number = int(\"\".join(map(str,permutation)))\n",
    "        result.add(number)\n",
    "\n",
    "print(min(result))\n"
   ]
  },
  {
   "cell_type": "code",
   "execution_count": null,
   "metadata": {},
   "outputs": [],
   "source": [
    "test = ['a' , 'b' , 'c' , 'd']\n",
    "word.join(map(str, test))\n",
    "print(word)\n"
   ]
  },
  {
   "cell_type": "code",
   "execution_count": null,
   "metadata": {},
   "outputs": [],
   "source": [
    "#2\n",
    "\n",
    "def count_char_in_string(x,c):\n",
    "    \n",
    "    ans_list = list()\n",
    "    start = 0\n",
    "\n",
    "    for index in range(len(x)):\n",
    "        ans_list.append(0)\n",
    "\n",
    "    for string in x:\n",
    "        #print(string)\n",
    "        for i in string:\n",
    "            #print(i)\n",
    "            if (i == c):\n",
    "                 ans_list[start] += 1\n",
    "        start += 1\n",
    "    return (ans_list)\n",
    "\n",
    "\n",
    "if __name__ == \"__main__\":\n",
    "    x = [\"abba\", \"babana\", \"ann\"]\n",
    "    c = 'a'\n",
    "    a = count_char_in_string(x,c)\n",
    "    print(a)\n",
    "\n"
   ]
  },
  {
   "cell_type": "code",
   "execution_count": null,
   "metadata": {},
   "outputs": [],
   "source": [
    "ans_list = []\n",
    "haha = [\"apple\", \"bannana\"]\n",
    "\n",
    "for i in range(len(haha)):\n",
    "    ans_list.append(0)\n",
    "\n",
    "ans_list[0] += 1\n",
    "\n",
    "print(ans_list)"
   ]
  },
  {
   "cell_type": "code",
   "execution_count": null,
   "metadata": {},
   "outputs": [],
   "source": [
    "#3 alternative\n",
    "\n",
    "def delete_minus(x):\n",
    "    new_lst = list()\n",
    "    for i in range(len(x)):\n",
    "        new_lst.append([])\n",
    "    index = 0\n",
    "    for lst in x:\n",
    "        for num in lst:\n",
    "            if (num >= 0):\n",
    "                new_lst[index].append(num)\n",
    "        index += 1\n",
    "    return (new_lst)\n",
    "\n",
    "x = [[1, -3, 2],[-8, 5],[-1, -4, -3] ] \n",
    "ans = delete_minus(x)\n",
    "print(ans)\n"
   ]
  },
  {
   "cell_type": "code",
   "execution_count": null,
   "metadata": {},
   "outputs": [],
   "source": [
    "#3 best sulution\n",
    "\n",
    "\n",
    "def delete_minus(x):\n",
    "    newlist = [[i for i in line if i >= 0] for line in x]\n",
    "    return (newlist)\n",
    "\n",
    "if __name__ == \"__main__\":\n",
    "    x = [[1, -3, 2],[-8, 5],[-1, -4, -3]] \n",
    "    newlist = delete_minus(x)\n",
    "    print(newlist)"
   ]
  },
  {
   "cell_type": "code",
   "execution_count": null,
   "metadata": {},
   "outputs": [],
   "source": [
    "#4\n",
    "\n",
    "def count_minus(word):  \n",
    "\tresult_list = [i for i in word if i < 0]\n",
    "\treturn (len(result_list))\n",
    "\n",
    "\n",
    "if __name__==\"__main__\":\n",
    "\tnum_list = input().split(\" \")\n",
    "\tnew_list = []\n",
    "\tfor i in num_list:\n",
    "\t\tnew_list.append(int(i))\n",
    "\tprint(new_list)\n",
    "\tprint(count_minus(new_list))"
   ]
  },
  {
   "cell_type": "code",
   "execution_count": null,
   "metadata": {},
   "outputs": [],
   "source": [
    "#5\n",
    "\n",
    "def is_alpha(i):\n",
    "    if ord(\"A\") <= ord(i) <= ord(\"Z\") or ord(\"a\") <= ord(i) <= ord(\"z\"):\n",
    "        return True\n",
    "    else:\n",
    "        return False\n",
    "\n",
    "def only_english(string1):\n",
    "    s_list = [i for i in string1 if is_alpha(i)]\n",
    "    #print(s_list)\n",
    "    ret = \"\".join(map(str,s_list))\n",
    "    return (ret)\n",
    "\n",
    "eng = only_english(\"haสวัสดีครับha123\")\n",
    "print(eng)"
   ]
  },
  {
   "cell_type": "code",
   "execution_count": null,
   "metadata": {},
   "outputs": [],
   "source": [
    "#6\n",
    "\n"
   ]
  },
  {
   "cell_type": "code",
   "execution_count": null,
   "metadata": {},
   "outputs": [],
   "source": [
    "#7"
   ]
  },
  {
   "cell_type": "code",
   "execution_count": null,
   "metadata": {},
   "outputs": [],
   "source": [
    "#8"
   ]
  }
 ],
 "metadata": {
  "kernelspec": {
   "display_name": "Python 3",
   "language": "python",
   "name": "python3"
  },
  "language_info": {
   "codemirror_mode": {
    "name": "ipython",
    "version": 3
   },
   "file_extension": ".py",
   "mimetype": "text/x-python",
   "name": "python",
   "nbconvert_exporter": "python",
   "pygments_lexer": "ipython3",
   "version": "3.9.6"
  },
  "orig_nbformat": 4,
  "vscode": {
   "interpreter": {
    "hash": "31f2aee4e71d21fbe5cf8b01ff0e069b9275f58929596ceb00d14d90e3e16cd6"
   }
  }
 },
 "nbformat": 4,
 "nbformat_minor": 2
}
