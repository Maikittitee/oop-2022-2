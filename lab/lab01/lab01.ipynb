{
 "cells": [
  {
   "cell_type": "code",
   "execution_count": 2,
   "metadata": {},
   "outputs": [
    {
     "name": "stdout",
     "output_type": "stream",
     "text": [
      "[2002, 2009, 2016, 2023, 2037, 2044, 2051, 2058, 2072, 2079, 2086, 2093, 2107, 2114, 2121, 2128, 2142, 2149, 2156, 2163, 2177, 2184, 2191, 2198, 2212, 2219, 2226, 2233, 2247, 2254, 2261, 2268, 2282, 2289, 2296, 2303, 2317, 2324, 2331, 2338, 2352, 2359, 2366, 2373, 2387, 2394, 2401, 2408, 2422, 2429, 2436, 2443, 2457, 2464, 2471, 2478, 2492, 2499, 2506, 2513, 2527, 2534, 2541, 2548, 2562, 2569, 2576, 2583, 2597, 2604, 2611, 2618, 2632, 2639, 2646, 2653, 2667, 2674, 2681, 2688, 2702, 2709, 2716, 2723, 2737, 2744, 2751, 2758, 2772, 2779, 2786, 2793, 2807, 2814, 2821, 2828, 2842, 2849, 2856, 2863, 2877, 2884, 2891, 2898, 2912, 2919, 2926, 2933, 2947, 2954, 2961, 2968, 2982, 2989, 2996, 3003, 3017, 3024, 3031, 3038, 3052, 3059, 3066, 3073, 3087, 3094, 3101, 3108, 3122, 3129, 3136, 3143, 3157, 3164, 3171, 3178, 3192, 3199]\n"
     ]
    }
   ],
   "source": [
    "#1\n",
    "listt = []\n",
    "\n",
    "for i in range(2000,3201):\n",
    "    if (i % 7 == 0) and (i % 5 != 0):\n",
    "        listt.append(i)\n",
    "\n",
    "print(listt)\n"
   ]
  },
  {
   "cell_type": "code",
   "execution_count": 3,
   "metadata": {},
   "outputs": [
    {
     "name": "stdout",
     "output_type": "stream",
     "text": [
      "2\n",
      "4\n"
     ]
    }
   ],
   "source": [
    "#2\n",
    "\n",
    "strr = input()\n",
    "count_cap = 0\n",
    "count_low = 0\n",
    "\n",
    "for i in strr:\n",
    "    if ord('A') <= ord(i) <= ord('Z'):\n",
    "        count_cap+=1\n",
    "    if ord('a') <= ord(i) <= ord('z'):\n",
    "        count_low+=1\n",
    "    \n",
    "#print(strr)\n",
    "print(count_cap)\n",
    "print(count_low)"
   ]
  },
  {
   "cell_type": "code",
   "execution_count": 4,
   "metadata": {},
   "outputs": [
    {
     "name": "stdout",
     "output_type": "stream",
     "text": [
      "need to pay: 20\n"
     ]
    }
   ],
   "source": [
    "#3 \n",
    "import math\n",
    "# list = input().split()\n",
    "\n",
    "pay = 0\n",
    "\n",
    "h_in,min_in,h_out,min_out = input().split()\n",
    "\n",
    "time_in = int(h_in) + (int(min_in)/60);\n",
    "time_out = int(h_out) + (int(min_out)/60);\n",
    "\n",
    "duration = time_out - time_in\n",
    "\n",
    "if duration <= 0.25:\n",
    "    pay = 0;\n",
    "elif duration <= 3:\n",
    "    pay = (math.ceil(duration) * 10)\n",
    "elif 3 <= duration <= 6:\n",
    "    pay = (math.ceil(duration - 3) * 20) + 30\n",
    "else:\n",
    "    pay = 200;\n",
    "\n",
    "\n",
    "\n",
    "# print(\"In:\",time_in)\n",
    "# print(\"Out:\",time_out)\n",
    "# print(\"total Duration\",duration)\n",
    "print(\"need to pay:\",pay)\n",
    "\n",
    "\n",
    "#other solution >> modulus "
   ]
  },
  {
   "cell_type": "code",
   "execution_count": 10,
   "metadata": {},
   "outputs": [
    {
     "name": "stdout",
     "output_type": "stream",
     "text": [
      "11106(=9+99+999+9999)\n"
     ]
    }
   ],
   "source": [
    "#4\n",
    "result = 0\n",
    "\n",
    "number = int(input())\n",
    "num = number\n",
    "num_list =[]\n",
    "\n",
    "\n",
    "for i in range(4):\n",
    "    result += num\n",
    "    num_list.append(num)\n",
    "    num = num * 10 + number\n",
    "\n",
    "print(\"{result} (={num1}+{num2}+{num3}+{num4})\".format(result=result,num1=num_list[0],num2=num_list[1],num3=num_list[2],num4=num_list[3]))"
   ]
  },
  {
   "cell_type": "code",
   "execution_count": 67,
   "metadata": {},
   "outputs": [
    {
     "ename": "TypeError",
     "evalue": "'int' object is not subscriptable",
     "output_type": "error",
     "traceback": [
      "\u001b[0;31m---------------------------------------------------------------------------\u001b[0m",
      "\u001b[0;31mTypeError\u001b[0m                                 Traceback (most recent call last)",
      "\u001b[1;32m/Users/maikittitee/Documents/KMITL/2:2022/oop/lab/lab01/lab01.ipynb Cell 5\u001b[0m in \u001b[0;36m<cell line: 6>\u001b[0;34m()\u001b[0m\n\u001b[1;32m      <a href='vscode-notebook-cell:/Users/maikittitee/Documents/KMITL/2%3A2022/oop/lab/lab01/lab01.ipynb#W4sZmlsZQ%3D%3D?line=5'>6</a>\u001b[0m \u001b[39mfor\u001b[39;00m i \u001b[39min\u001b[39;00m \u001b[39mrange\u001b[39m(\u001b[39m999\u001b[39m,\u001b[39m99\u001b[39m,\u001b[39m-\u001b[39m\u001b[39m1\u001b[39m):\n\u001b[1;32m      <a href='vscode-notebook-cell:/Users/maikittitee/Documents/KMITL/2%3A2022/oop/lab/lab01/lab01.ipynb#W4sZmlsZQ%3D%3D?line=6'>7</a>\u001b[0m     \u001b[39mfor\u001b[39;00m j \u001b[39min\u001b[39;00m \u001b[39mrange\u001b[39m (\u001b[39m999\u001b[39m,\u001b[39m99\u001b[39m,\u001b[39m-\u001b[39m\u001b[39m1\u001b[39m):\n\u001b[0;32m----> <a href='vscode-notebook-cell:/Users/maikittitee/Documents/KMITL/2%3A2022/oop/lab/lab01/lab01.ipynb#W4sZmlsZQ%3D%3D?line=7'>8</a>\u001b[0m         \u001b[39mif\u001b[39;00m (is_palin(i \u001b[39m*\u001b[39;49m j)):\n\u001b[1;32m      <a href='vscode-notebook-cell:/Users/maikittitee/Documents/KMITL/2%3A2022/oop/lab/lab01/lab01.ipynb#W4sZmlsZQ%3D%3D?line=8'>9</a>\u001b[0m             \u001b[39mprint\u001b[39m(i\u001b[39m*\u001b[39mj)\n\u001b[1;32m     <a href='vscode-notebook-cell:/Users/maikittitee/Documents/KMITL/2%3A2022/oop/lab/lab01/lab01.ipynb#W4sZmlsZQ%3D%3D?line=9'>10</a>\u001b[0m             \u001b[39mbreak\u001b[39;00m\n",
      "\u001b[1;32m/Users/maikittitee/Documents/KMITL/2:2022/oop/lab/lab01/lab01.ipynb Cell 5\u001b[0m in \u001b[0;36mis_palin\u001b[0;34m(s)\u001b[0m\n\u001b[1;32m      <a href='vscode-notebook-cell:/Users/maikittitee/Documents/KMITL/2%3A2022/oop/lab/lab01/lab01.ipynb#W4sZmlsZQ%3D%3D?line=2'>3</a>\u001b[0m \u001b[39mdef\u001b[39;00m \u001b[39mis_palin\u001b[39m(s):\n\u001b[0;32m----> <a href='vscode-notebook-cell:/Users/maikittitee/Documents/KMITL/2%3A2022/oop/lab/lab01/lab01.ipynb#W4sZmlsZQ%3D%3D?line=3'>4</a>\u001b[0m     \u001b[39mreturn\u001b[39;00m s \u001b[39m==\u001b[39m s[::\u001b[39m-\u001b[39;49m\u001b[39m1\u001b[39;49m]\n",
      "\u001b[0;31mTypeError\u001b[0m: 'int' object is not subscriptable"
     ]
    }
   ],
   "source": [
    "#5\n",
    "\n",
    "def is_palin(s):\n",
    "    return s == s[::-1]\n",
    "\n",
    "for i in range(999,99,-1):\n",
    "    for j in range (999,99,-1):\n",
    "        if (is_palin(i * j)):\n",
    "            print(i*j)\n",
    "            break"
   ]
  }
 ],
 "metadata": {
  "kernelspec": {
   "display_name": "base",
   "language": "python",
   "name": "python3"
  },
  "language_info": {
   "codemirror_mode": {
    "name": "ipython",
    "version": 3
   },
   "file_extension": ".py",
   "mimetype": "text/x-python",
   "name": "python",
   "nbconvert_exporter": "python",
   "pygments_lexer": "ipython3",
   "version": "3.9.13"
  },
  "orig_nbformat": 4,
  "vscode": {
   "interpreter": {
    "hash": "38cca0c38332a56087b24af0bc80247f4fced29cb4f7f437d91dc159adec9c4e"
   }
  }
 },
 "nbformat": 4,
 "nbformat_minor": 2
}
